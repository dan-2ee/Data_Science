{
  "nbformat": 4,
  "nbformat_minor": 0,
  "metadata": {
    "colab": {
      "name": "20203112_이다은_과제3.ipynb",
      "provenance": [],
      "collapsed_sections": []
    },
    "kernelspec": {
      "name": "python3",
      "display_name": "Python 3"
    },
    "language_info": {
      "name": "python"
    }
  },
  "cells": [
    {
      "cell_type": "code",
      "metadata": {
        "id": "Ty7JZdm7LBAI",
        "colab": {
          "base_uri": "https://localhost:8080/"
        },
        "outputId": "7dad1279-d593-4dc7-e0e9-e40688358a4f"
      },
      "source": [
        "# pytorch로 Softmax Regression 구현\n",
        "import torch\n",
        "x_train = torch.FloatTensor([[1,2,1,1], [2,1,3,2], [3,1,3,4], [4,1,5,5], [1,7,5,5], [1,2,5,6], [1,6,6,6], [1,7,7,7]])\n",
        "y_train = torch.FloatTensor([[0,0,1], [0,0,1], [0,0,1], [0,1,0], [0,1,0],[0,1,0], [1,0,0], [1,0,0]])\n",
        "\n",
        "W = torch.zeros(4, 3, requires_grad=True)\n",
        "b = torch.zeros(1, 3, requires_grad=True)\n",
        "\n",
        "optimizer = torch.optim.Adam([W,b], lr=0.1)\n",
        "\n",
        "for epoch in range(3001):\n",
        "  hypothesis = torch.softmax(torch.mm(x_train, W)+b, dim=1)\n",
        "  cost = -torch.mean(torch.sum(y_train * torch.log(hypothesis),dim=1))\n",
        "\n",
        "  optimizer.zero_grad()\n",
        "  cost.backward()\n",
        "  optimizer.step()\n",
        "\n",
        "  if epoch % 300 == 0:\n",
        "    print(\"epoch: {}, cost: {:.6f}\".format(epoch, cost.item()))\n"
      ],
      "execution_count": null,
      "outputs": [
        {
          "output_type": "stream",
          "name": "stdout",
          "text": [
            "epoch: 0, cost: 1.098612\n",
            "epoch: 300, cost: 0.105262\n",
            "epoch: 600, cost: 0.042634\n",
            "epoch: 900, cost: 0.023111\n",
            "epoch: 1200, cost: 0.014479\n",
            "epoch: 1500, cost: 0.009879\n",
            "epoch: 1800, cost: 0.007124\n",
            "epoch: 2100, cost: 0.005338\n",
            "epoch: 2400, cost: 0.004113\n",
            "epoch: 2700, cost: 0.003236\n",
            "epoch: 3000, cost: 0.002588\n"
          ]
        }
      ]
    },
    {
      "cell_type": "code",
      "metadata": {
        "colab": {
          "base_uri": "https://localhost:8080/"
        },
        "id": "-5w92L4wSGs3",
        "outputId": "9aca7b36-b563-46f3-a2fc-5f81693c3430"
      },
      "source": [
        "W.requires_grad_(False)\n",
        "b.requires_grad_(False)\n",
        "\n",
        "x_test = torch.FloatTensor([[1,11,10,9], [1,3,4,3], [1,1,0,1]])\n",
        "test_all = torch.softmax(torch.mm(x_test, W)+b, dim=1)\n",
        "print(test_all)\n",
        "print(torch.argmax(test_all, dim=1))"
      ],
      "execution_count": null,
      "outputs": [
        {
          "output_type": "stream",
          "name": "stdout",
          "text": [
            "tensor([[1.0000e+00, 5.5165e-19, 7.0151e-38],\n",
            "        [1.4800e-02, 7.4294e-01, 2.4226e-01],\n",
            "        [1.2256e-33, 9.0835e-12, 1.0000e+00]])\n",
            "tensor([0, 1, 2])\n"
          ]
        }
      ]
    },
    {
      "cell_type": "code",
      "metadata": {
        "colab": {
          "base_uri": "https://localhost:8080/"
        },
        "id": "MaQLOwpVS_cW",
        "outputId": "6dc0a06b-a1c6-4c39-c1cd-08c58138b5ef"
      },
      "source": [
        "# 조금 더 깔끔하게 Softmax\n",
        "import torch.nn.functional as F\n",
        "\n",
        "x_train = torch.FloatTensor([[1,2,1,1], [2,1,3,2], [3,1,3,4], [4,1,5,5], [1,7,5,5], [1,2,5,6], [1,6,6,6], [1,7,7,7]])\n",
        "y_train = torch.LongTensor([2, 2, 2, 1, 1, 1, 0, 0])\n",
        "\n",
        "W = torch.zeros(4, 3, requires_grad=True)\n",
        "b = torch.zeros(1, 3, requires_grad=True)\n",
        "\n",
        "optimizer = torch.optim.Adam([W,b], lr=0.1)\n",
        "\n",
        "for epoch in range(3001):\n",
        "  z = torch.mm(x_train, W)+b\n",
        "  cost = F.cross_entropy(z, y_train)\n",
        "\n",
        "  optimizer.zero_grad()\n",
        "  cost.backward()\n",
        "  optimizer.step()\n",
        "\n",
        "  if epoch % 300 == 0:\n",
        "    print(\"epoch: {}, cost: {:.6f}\".format(epoch, cost.item()))"
      ],
      "execution_count": null,
      "outputs": [
        {
          "output_type": "stream",
          "name": "stdout",
          "text": [
            "epoch: 0, cost: 1.098612\n",
            "epoch: 300, cost: 0.105263\n",
            "epoch: 600, cost: 0.042634\n",
            "epoch: 900, cost: 0.023111\n",
            "epoch: 1200, cost: 0.014479\n",
            "epoch: 1500, cost: 0.009879\n",
            "epoch: 1800, cost: 0.007124\n",
            "epoch: 2100, cost: 0.005338\n",
            "epoch: 2400, cost: 0.004113\n",
            "epoch: 2700, cost: 0.003236\n",
            "epoch: 3000, cost: 0.002588\n"
          ]
        }
      ]
    },
    {
      "cell_type": "code",
      "metadata": {
        "colab": {
          "base_uri": "https://localhost:8080/"
        },
        "id": "NQfqestSUAZF",
        "outputId": "e171e2a3-94b2-461a-9eb0-d75e1cff255d"
      },
      "source": [
        "# 조금 더 깔끔하게 Softmax\n",
        "# W와 b -> nn.Linear\n",
        "import torch.nn as nn\n",
        "\n",
        "x_train = torch.FloatTensor([[1,2,1,1], [2,1,3,2], [3,1,3,4], [4,1,5,5], [1,7,5,5], [1,2,5,6], [1,6,6,6], [1,7,7,7]])\n",
        "y_train = torch.LongTensor([2, 2, 2, 1, 1, 1, 0, 0])\n",
        "\n",
        "model = nn.Linear(4,3)\n",
        "optimizer = torch.optim.Adam(model.parameters(), lr=1)\n",
        "\n",
        "for epoch in range(3001):\n",
        "  z = model(x_train)\n",
        "  cost = F.cross_entropy(z, y_train)\n",
        "\n",
        "  optimizer.zero_grad()\n",
        "  cost.backward()\n",
        "  optimizer.step()\n",
        "\n",
        "  if epoch % 300 == 0:\n",
        "    print(\"epoch: {}, cost: {:.6f}\".format(epoch, cost.item()))"
      ],
      "execution_count": null,
      "outputs": [
        {
          "output_type": "stream",
          "name": "stdout",
          "text": [
            "epoch: 0, cost: 1.644742\n",
            "epoch: 300, cost: 0.029368\n",
            "epoch: 600, cost: 0.011572\n",
            "epoch: 900, cost: 0.006235\n",
            "epoch: 1200, cost: 0.003907\n",
            "epoch: 1500, cost: 0.002670\n",
            "epoch: 1800, cost: 0.001929\n",
            "epoch: 2100, cost: 0.001448\n",
            "epoch: 2400, cost: 0.001117\n",
            "epoch: 2700, cost: 0.000880\n",
            "epoch: 3000, cost: 0.000705\n"
          ]
        }
      ]
    },
    {
      "cell_type": "code",
      "metadata": {
        "colab": {
          "base_uri": "https://localhost:8080/"
        },
        "id": "0ypWdQdeWsKV",
        "outputId": "c823cc96-9835-4a58-eb91-f45c542e9fb0"
      },
      "source": [
        "# Softmax Regression in SKlearn\n",
        "import numpy as np\n",
        "from sklearn.linear_model import LogisticRegression\n",
        "\n",
        "x_train = np.array([[1,2,1,1], [2,1,3,2], [3,1,3,4], [4,1,5,5], [1,7,5,5], [1,2,5,6], [1,6,6,6], [1,7,7,7]])\n",
        "y_train = np.array([2,2,2,1,1,1,0,0])\n",
        "\n",
        "logistic = LogisticRegression(penalty='none')\n",
        "logistic.fit(x_train, y_train)\n",
        "\n",
        "pred = logistic.predict([[1,11,10,9], [1,3,4,3], [1,1,0,1]])\n",
        "print(pred)"
      ],
      "execution_count": null,
      "outputs": [
        {
          "output_type": "stream",
          "name": "stdout",
          "text": [
            "[0 1 2]\n"
          ]
        }
      ]
    }
  ]
}