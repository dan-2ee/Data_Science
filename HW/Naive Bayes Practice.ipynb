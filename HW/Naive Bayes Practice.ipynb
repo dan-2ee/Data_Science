{
  "nbformat": 4,
  "nbformat_minor": 0,
  "metadata": {
    "colab": {
      "name": "이다은_20203112_과제9.ipynb",
      "provenance": []
    },
    "kernelspec": {
      "name": "python3",
      "display_name": "Python 3"
    },
    "language_info": {
      "name": "python"
    }
  },
  "cells": [
    {
      "cell_type": "code",
      "metadata": {
        "id": "hKDyutIeeige"
      },
      "source": [
        "import zipfile\n",
        "import requests\n",
        "from collections import Counter\n",
        "import re\n",
        "import math\n",
        "import random\n",
        "\n",
        "r = requests.get(\"https://www.dt.fee.unicamp.br/~tiago/smsspamcollection/smsspamcollection.zip\")\n",
        "open(\"spam.zip\", \"wb\").write(r.content)\n",
        "zipfile.ZipFile(\"spam.zip\").extractall(\"./\")"
      ],
      "execution_count": 1,
      "outputs": []
    },
    {
      "cell_type": "code",
      "metadata": {
        "id": "vHSOckrpfJUK"
      },
      "source": [
        "# SMS를 Bag-of_Words로 분리\n",
        "data = [line.strip().split(\"\\t\") for line in open(\"SMSSpamCollection.txt\", \"r\")]\n",
        "for d in data:\n",
        "    d[1] = set(re.findall(\"[a-z0-1_]+\", d[1].lower()))\n",
        "\n",
        "# train, test 데이터 분리 \n",
        "random.shuffle(data)\n",
        "train_len = int(len(data) * 0.8)\n",
        "test_len = len(data) - train_len\n",
        "\n",
        "train = data[:train_len]\n",
        "test = data[train_len:]"
      ],
      "execution_count": 7,
      "outputs": []
    },
    {
      "cell_type": "code",
      "metadata": {
        "id": "T9uEJPiQfdSE"
      },
      "source": [
        "train_spam = [bow for cls, bow in train if cls == 'spam']\n",
        "train_ham = [bow for cls, bow in train if cls == 'ham']\n",
        "\n",
        "prior_spam = math.log(len(train_spam) / len(train))\n",
        "prior_ham = math.log(len(train_ham) / len(train))"
      ],
      "execution_count": 8,
      "outputs": []
    },
    {
      "cell_type": "code",
      "metadata": {
        "id": "TKFjHJf4gBsf"
      },
      "source": [
        "spam_words = Counter(word for bow in train_spam for word in bow)\n",
        "ham_words = Counter(word for bow in train_ham for word in bow)\n"
      ],
      "execution_count": 11,
      "outputs": []
    },
    {
      "cell_type": "code",
      "metadata": {
        "id": "hvBygMvmgEsc"
      },
      "source": [
        "def predict(bow, spam_words, ham_words, n_spams, n_hams, alpha):\n",
        "    spam_score = prior_spam + sum( math.log((spam_words[word] + alpha)/(n_spams + alpha)) for word in bow) \n",
        "    ham_score = prior_ham + sum( math.log((ham_words[word] + alpha)/(n_hams + alpha)) for word in bow)\n",
        "\n",
        "    if spam_score < ham_score:\n",
        "        return 'ham'\n",
        "    else:\n",
        "        return 'spam'"
      ],
      "execution_count": 12,
      "outputs": []
    },
    {
      "cell_type": "code",
      "metadata": {
        "id": "eKrbz2wmgL_G",
        "colab": {
          "base_uri": "https://localhost:8080/"
        },
        "outputId": "fc751f07-34eb-437e-efbe-9cfcbe705d20"
      },
      "source": [
        "tp, tn, fp, fn = 0, 0, 0, 0\n",
        "for cls, bow in test:\n",
        "    pred = predict(bow, spam_words, ham_words, len(train_spam), len(train_ham), 1e-4)\n",
        "    if cls == 'spam' and pred == 'spam': tp += 1\n",
        "    elif cls == 'ham' and pred == 'ham': tn += 1\n",
        "    elif cls == 'ham' and pred == 'spam': fp += 1\n",
        "    else: fn += 1\n",
        "\n",
        "print(f\"tp {tp}, tn: {tn}, fp: {fp}, fn: {fn}\")"
      ],
      "execution_count": 13,
      "outputs": [
        {
          "output_type": "stream",
          "name": "stdout",
          "text": [
            "tp 153, tn: 936, fp: 21, fn: 5\n"
          ]
        }
      ]
    },
    {
      "cell_type": "code",
      "metadata": {
        "colab": {
          "base_uri": "https://localhost:8080/"
        },
        "id": "-mki4QyUgonw",
        "outputId": "ad2dda87-2ac1-42d4-cbbe-c9022b222e16"
      },
      "source": [
        "accuracy = (tp + tn) / (tp + tn + fp + fn)\n",
        "precision = tp / (tp + fp)\n",
        "recall = tp / (tp + fn)\n",
        "f1 = 2 * precision * recall / (precision + recall)\n",
        "\n",
        "print(f\"accuracy: {accuracy}, precision: {precision}, recall: {recall}, f1: {f1}\")"
      ],
      "execution_count": 15,
      "outputs": [
        {
          "output_type": "stream",
          "name": "stdout",
          "text": [
            "accuracy: 0.9766816143497757, precision: 0.8793103448275862, recall: 0.9683544303797469, f1: 0.9216867469879519\n"
          ]
        }
      ]
    }
  ]
}