{
  "nbformat": 4,
  "nbformat_minor": 0,
  "metadata": {
    "colab": {
      "name": "이다은_20203112_과제5.ipynb",
      "provenance": []
    },
    "kernelspec": {
      "name": "python3",
      "display_name": "Python 3"
    },
    "language_info": {
      "name": "python"
    }
  },
  "cells": [
    {
      "cell_type": "code",
      "metadata": {
        "id": "4YX9I0EXA_bC",
        "colab": {
          "base_uri": "https://localhost:8080/"
        },
        "outputId": "55c20629-5b5e-4e59-c362-82d0fdea1ed2"
      },
      "source": [
        "from google.colab import drive\n",
        "\n",
        "drive.mount('/content/gdrive')"
      ],
      "execution_count": 36,
      "outputs": [
        {
          "output_type": "stream",
          "name": "stdout",
          "text": [
            "Drive already mounted at /content/gdrive; to attempt to forcibly remount, call drive.mount(\"/content/gdrive\", force_remount=True).\n"
          ]
        }
      ]
    },
    {
      "cell_type": "code",
      "metadata": {
        "id": "rRO5IKJgE2Lo"
      },
      "source": [
        "import torch\n",
        "import pandas as pd\n",
        "import torch.nn.functional as F\n",
        "import matplotlib.pyplot as plt\n",
        "\n",
        "train = pd.read_csv(\"/content/gdrive/MyDrive/movielens/ua.base\", sep=\"\\t\", names=['user', 'movie', 'rating', 'timestamp'])\n",
        "test = pd.read_csv(\"/content/gdrive/MyDrive/movielens/ua.test\", sep=\"\\t\", names=['user', 'movie', 'rating', 'timestamp'])"
      ],
      "execution_count": 56,
      "outputs": []
    },
    {
      "cell_type": "code",
      "metadata": {
        "id": "GXGxPlw0YzC2"
      },
      "source": [
        "items = torch.LongTensor(train['movie'])\n",
        "users = torch.LongTensor(train['user'])\n",
        "ratings = torch.FloatTensor(train['rating'])\n",
        "\n",
        "items_test = torch.LongTensor(test['movie'])\n",
        "users_test = torch.LongTensor(test['user'])\n",
        "ratings_test = torch.FloatTensor(test['rating'])"
      ],
      "execution_count": 57,
      "outputs": []
    },
    {
      "cell_type": "code",
      "metadata": {
        "colab": {
          "base_uri": "https://localhost:8080/"
        },
        "id": "lIueUnE9ZzY3",
        "outputId": "72cf9d7f-0b03-49a1-adec-187ffee2bd2a"
      },
      "source": [
        "rank = 10\n",
        "numItems = items.max()+1\n",
        "numUsers = users.max()+1\n",
        "\n",
        "P = torch.randn(numItems, rank, requires_grad=True)\n",
        "Q = torch.randn(numUsers, rank, requires_grad=True)\n",
        "\n",
        "lambda1 = 0.0001\n",
        "lambda2 = 0.0001\n",
        "\n",
        "optimizer = torch.optim.Adam([P, Q], lr=0.1)\n",
        "\n",
        "X = []\n",
        "Y = []\n",
        "Y_test = []\n",
        "for epoch in range(1000):\n",
        "  hypothesis = torch.sum(P[items] * Q[users], dim=1)\n",
        "  cost = F.mse_loss(hypothesis, ratings)\n",
        "  loss = cost + lambda1 * torch.sum(P ** 2) + lambda2 * torch.sum(Q ** 2)\n",
        "\n",
        "\n",
        "  optimizer.zero_grad()\n",
        "  loss.backward()\n",
        "  optimizer.step()\n",
        "\n",
        "  with torch.no_grad():\n",
        "    X.append(epoch)\n",
        "    Y.append(cost)\n",
        "\n",
        "    hypo_test = torch.sum(P[items_test] * Q[users_test], dim=1)\n",
        "    cost_test = F.mse_loss(hypo_test, ratings_test)\n",
        "    Y_test.append(cost_test)\n",
        "    if epoch % 100 == 0:\n",
        "      print(\"epoch: {}, cost: {:.6f}, cost_test: {:.6f}\".format(epoch, cost.item(), cost_test.item()))\n"
      ],
      "execution_count": 59,
      "outputs": [
        {
          "output_type": "stream",
          "name": "stdout",
          "text": [
            "epoch: 0, cost: 24.004742, cost_test: 21.975288\n",
            "epoch: 100, cost: 0.697990, cost_test: 1.053040\n",
            "epoch: 200, cost: 0.641778, cost_test: 1.057497\n",
            "epoch: 300, cost: 0.631332, cost_test: 1.060594\n",
            "epoch: 400, cost: 0.628858, cost_test: 1.060799\n",
            "epoch: 500, cost: 0.627987, cost_test: 1.060025\n",
            "epoch: 600, cost: 0.627573, cost_test: 1.059292\n",
            "epoch: 700, cost: 0.627249, cost_test: 1.058602\n",
            "epoch: 800, cost: 0.626887, cost_test: 1.057687\n",
            "epoch: 900, cost: 0.626603, cost_test: 1.056729\n"
          ]
        }
      ]
    },
    {
      "cell_type": "code",
      "metadata": {
        "colab": {
          "base_uri": "https://localhost:8080/"
        },
        "id": "pNKx3ZNSh9wT",
        "outputId": "a512ecad-b30a-4785-8f84-4c2936cc02e1"
      },
      "source": [
        "# bias 추가\n",
        "rank = 10\n",
        "numItems = items.max()+1\n",
        "numUsers = users.max()+1\n",
        "\n",
        "P = torch.randn(numItems, rank, requires_grad=True)\n",
        "Q = torch.randn(numUsers, rank, requires_grad=True)\n",
        "\n",
        "bias_item = torch.randn(numItems, requires_grad=True)\n",
        "bias_user = torch.randn(numUsers, requires_grad=True)\n",
        "\n",
        "lambda1 = 0.0001\n",
        "lambda2 = 0.0001\n",
        "lambda3 = 0.0001\n",
        "lambda4 = 0.0001\n",
        "\n",
        "mean = (ratings.sum() / len(ratings)).item()\n",
        "\n",
        "optimizer = torch.optim.Adam([P, Q, bias_item, bias_user], lr=0.1)\n",
        "\n",
        "X = []\n",
        "Y = []\n",
        "Y_test = []\n",
        "for epoch in range(1000):\n",
        "  hypothesis = torch.sum(P[items] * Q[users], dim=1) + mean + bias_item[items] + bias_user[users]\n",
        "  cost = F.mse_loss(hypothesis, ratings)\n",
        "  loss = cost + lambda1 * torch.sum(P ** 2) + lambda2 * torch.sum(Q ** 2) + lambda3 * torch.sum(bias_item ** 2) + lambda4 * torch.sum(bias_user ** 2)\n",
        "\n",
        "  optimizer.zero_grad()\n",
        "  loss.backward()\n",
        "  optimizer.step()\n",
        "\n",
        "  with torch.no_grad():\n",
        "    X.append(epoch)\n",
        "    Y.append(cost)\n",
        "\n",
        "    hypo_test = torch.sum(P[items_test] * Q[users_test], dim=1) + mean + bias_item[items_test] + bias_user[users_test]\n",
        "    cost_test = F.mse_loss(hypo_test, ratings_test)\n",
        "    Y_test.append(cost_test)\n",
        "    if epoch % 100 == 0:\n",
        "      print(\"epoch: {}, cost: {:.6f}, cost_test: {:.6f}\".format(epoch, cost.item(), cost_test.item()))\n"
      ],
      "execution_count": 60,
      "outputs": [
        {
          "output_type": "stream",
          "name": "stdout",
          "text": [
            "epoch: 0, cost: 13.619315, cost_test: 10.423199\n",
            "epoch: 100, cost: 0.610770, cost_test: 0.870522\n",
            "epoch: 200, cost: 0.579116, cost_test: 0.867095\n",
            "epoch: 300, cost: 0.575301, cost_test: 0.869769\n",
            "epoch: 400, cost: 0.573569, cost_test: 0.868973\n",
            "epoch: 500, cost: 0.572724, cost_test: 0.868289\n",
            "epoch: 600, cost: 0.572420, cost_test: 0.868367\n",
            "epoch: 700, cost: 0.572303, cost_test: 0.868410\n",
            "epoch: 800, cost: 0.572257, cost_test: 0.868466\n",
            "epoch: 900, cost: 0.572241, cost_test: 0.868526\n"
          ]
        }
      ]
    },
    {
      "cell_type": "code",
      "metadata": {
        "colab": {
          "base_uri": "https://localhost:8080/"
        },
        "id": "Ku_5-PVawaYy",
        "outputId": "2f405603-829c-4753-a466-78238cc0240c"
      },
      "source": [
        "# 파라미터 변경\n",
        "rank = 10\n",
        "numItems = items.max()+1\n",
        "numUsers = users.max()+1\n",
        "\n",
        "P = torch.randn(numItems, rank, requires_grad=True)\n",
        "Q = torch.randn(numUsers, rank, requires_grad=True)\n",
        "\n",
        "bias_item = torch.randn(numItems, requires_grad=True)\n",
        "bias_user = torch.randn(numUsers, requires_grad=True)\n",
        "\n",
        "lambda1 = 0.0001\n",
        "lambda2 = 0.0001\n",
        "lambda3 = 0.00005\n",
        "lambda4 = 0.00005\n",
        "\n",
        "mean = (ratings.sum() / len(ratings)).item()\n",
        "\n",
        "optimizer = torch.optim.Adam([P, Q, bias_item, bias_user], lr=0.1)\n",
        "\n",
        "X = []\n",
        "Y = []\n",
        "Y_test = []\n",
        "for epoch in range(1000):\n",
        "  hypothesis = torch.sum(P[items] * Q[users], dim=1) + mean + bias_item[items] + bias_user[users]\n",
        "  cost = F.mse_loss(hypothesis, ratings)\n",
        "  loss = cost + lambda1 * torch.sum(P ** 2) + lambda2 * torch.sum(Q ** 2) + lambda3 * torch.sum(bias_item ** 2) + lambda4 * torch.sum(bias_user ** 2)\n",
        "\n",
        "  optimizer.zero_grad()\n",
        "  loss.backward()\n",
        "  optimizer.step()\n",
        "\n",
        "  with torch.no_grad():\n",
        "    X.append(epoch)\n",
        "    Y.append(cost)\n",
        "\n",
        "    hypo_test = torch.sum(P[items_test] * Q[users_test], dim=1) + mean + bias_item[items_test] + bias_user[users_test]\n",
        "    cost_test = F.mse_loss(hypo_test, ratings_test)\n",
        "    Y_test.append(cost_test)\n",
        "    if epoch % 100 == 0:\n",
        "      print(\"epoch: {}, cost: {:.6f}, cost_test: {:.6f}\".format(epoch, cost.item(), cost_test.item()))\n"
      ],
      "execution_count": 62,
      "outputs": [
        {
          "output_type": "stream",
          "name": "stdout",
          "text": [
            "epoch: 0, cost: 13.127260, cost_test: 10.312820\n",
            "epoch: 100, cost: 0.599406, cost_test: 0.876680\n",
            "epoch: 200, cost: 0.575637, cost_test: 0.868465\n",
            "epoch: 300, cost: 0.571720, cost_test: 0.867214\n",
            "epoch: 400, cost: 0.570216, cost_test: 0.867390\n",
            "epoch: 500, cost: 0.569069, cost_test: 0.867463\n",
            "epoch: 600, cost: 0.568406, cost_test: 0.866416\n",
            "epoch: 700, cost: 0.568179, cost_test: 0.865110\n",
            "epoch: 800, cost: 0.568083, cost_test: 0.864081\n",
            "epoch: 900, cost: 0.568022, cost_test: 0.863415\n"
          ]
        }
      ]
    },
    {
      "cell_type": "code",
      "metadata": {
        "colab": {
          "base_uri": "https://localhost:8080/",
          "height": 279
        },
        "id": "AkEHlMvNdnxo",
        "outputId": "74270287-44d6-4119-e253-bc170febb3ca"
      },
      "source": [
        "plt.ylabel(\"MSE\")\n",
        "plt.xlabel(\"Epoch\")\n",
        "plt.plot(X, Y, c=\"blue\", label=\"Trainging MSE\")\n",
        "plt.plot(X, Y_test, c=\"red\", label=\"Test MSE\")\n",
        "plt.legend()\n",
        "plt.show()"
      ],
      "execution_count": 70,
      "outputs": [
        {
          "output_type": "display_data",
          "data": {
            "image/png": "[encoded data removed]",
            "text/plain": [
              "<Figure size 432x288 with 1 Axes>"
            ]
          },
          "metadata": {
            "needs_background": "light"
          }
        }
      ]
    }
  ]
}