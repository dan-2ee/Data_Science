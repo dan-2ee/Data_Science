{
  "nbformat": 4,
  "nbformat_minor": 0,
  "metadata": {
    "colab": {
      "name": "이다은_20203112_p02.ipynb",
      "provenance": [],
      "collapsed_sections": []
    },
    "kernelspec": {
      "name": "python3",
      "display_name": "Python 3"
    },
    "language_info": {
      "name": "python"
    }
  },
  "cells": [
    {
      "cell_type": "code",
      "execution_count": 183,
      "metadata": {
        "id": "jozSaEpapPxw"
      },
      "outputs": [],
      "source": [
        "# Task1. 데이터 준비하기\n",
        "import zipfile\n",
        "import requests\n",
        "\n",
        "url = \"https://files.grouplens.org/datasets/movielens/ml-latest-small.zip\"\n",
        "r = requests.get(url)\n",
        "open(\"movie.zip\", \"wb\").write(r.content)\n",
        "zipfile.ZipFile(\"movie.zip\").extractall()"
      ]
    },
    {
      "cell_type": "code",
      "source": [
        "# Task 1-1\n",
        "import pandas as pd \n",
        "\n",
        "rating_data = pd.read_csv('ml-latest-small/ratings.csv')\n",
        "# ratings.csv 파일을 train, test data로 나누기\n",
        "# random_state 설정시 결과 고정\n",
        "rating_train = rating_data.sample(frac=0.8, random_state=2021).sort_index()\n",
        "rating_test = rating_data.drop(rating_train.index).sort_index()\n",
        "rating_data"
      ],
      "metadata": {
        "id": "2my4vesot2dR",
        "colab": {
          "base_uri": "https://localhost:8080/",
          "height": 419
        },
        "outputId": "9c00406a-7795-496c-c8d1-639e425a295f"
      },
      "execution_count": 184,
      "outputs": [
        {
          "output_type": "execute_result",
          "data": {
            "text/html": [
              "\n",
              "  <div id=\"df-887d463b-f5d5-4636-9c85-b30ef9cebf9b\">\n",
              "    <div class=\"colab-df-container\">\n",
              "      <div>\n",
              "<style scoped>\n",
              "    .dataframe tbody tr th:only-of-type {\n",
              "        vertical-align: middle;\n",
              "    }\n",
              "\n",
              "    .dataframe tbody tr th {\n",
              "        vertical-align: top;\n",
              "    }\n",
              "\n",
              "    .dataframe thead th {\n",
              "        text-align: right;\n",
              "    }\n",
              "</style>\n",
              "<table border=\"1\" class=\"dataframe\">\n",
              "  <thead>\n",
              "    <tr style=\"text-align: right;\">\n",
              "      <th></th>\n",
              "      <th>userId</th>\n",
              "      <th>movieId</th>\n",
              "      <th>rating</th>\n",
              "      <th>timestamp</th>\n",
              "    </tr>\n",
              "  </thead>\n",
              "  <tbody>\n",
              "    <tr>\n",
              "      <th>0</th>\n",
              "      <td>1</td>\n",
              "      <td>1</td>\n",
              "      <td>4.0</td>\n",
              "      <td>964982703</td>\n",
              "    </tr>\n",
              "    <tr>\n",
              "      <th>1</th>\n",
              "      <td>1</td>\n",
              "      <td>3</td>\n",
              "      <td>4.0</td>\n",
              "      <td>964981247</td>\n",
              "    </tr>\n",
              "    <tr>\n",
              "      <th>2</th>\n",
              "      <td>1</td>\n",
              "      <td>6</td>\n",
              "      <td>4.0</td>\n",
              "      <td>964982224</td>\n",
              "    </tr>\n",
              "    <tr>\n",
              "      <th>3</th>\n",
              "      <td>1</td>\n",
              "      <td>47</td>\n",
              "      <td>5.0</td>\n",
              "      <td>964983815</td>\n",
              "    </tr>\n",
              "    <tr>\n",
              "      <th>4</th>\n",
              "      <td>1</td>\n",
              "      <td>50</td>\n",
              "      <td>5.0</td>\n",
              "      <td>964982931</td>\n",
              "    </tr>\n",
              "    <tr>\n",
              "      <th>...</th>\n",
              "      <td>...</td>\n",
              "      <td>...</td>\n",
              "      <td>...</td>\n",
              "      <td>...</td>\n",
              "    </tr>\n",
              "    <tr>\n",
              "      <th>100831</th>\n",
              "      <td>610</td>\n",
              "      <td>166534</td>\n",
              "      <td>4.0</td>\n",
              "      <td>1493848402</td>\n",
              "    </tr>\n",
              "    <tr>\n",
              "      <th>100832</th>\n",
              "      <td>610</td>\n",
              "      <td>168248</td>\n",
              "      <td>5.0</td>\n",
              "      <td>1493850091</td>\n",
              "    </tr>\n",
              "    <tr>\n",
              "      <th>100833</th>\n",
              "      <td>610</td>\n",
              "      <td>168250</td>\n",
              "      <td>5.0</td>\n",
              "      <td>1494273047</td>\n",
              "    </tr>\n",
              "    <tr>\n",
              "      <th>100834</th>\n",
              "      <td>610</td>\n",
              "      <td>168252</td>\n",
              "      <td>5.0</td>\n",
              "      <td>1493846352</td>\n",
              "    </tr>\n",
              "    <tr>\n",
              "      <th>100835</th>\n",
              "      <td>610</td>\n",
              "      <td>170875</td>\n",
              "      <td>3.0</td>\n",
              "      <td>1493846415</td>\n",
              "    </tr>\n",
              "  </tbody>\n",
              "</table>\n",
              "<p>100836 rows × 4 columns</p>\n",
              "</div>\n",
              "      <button class=\"colab-df-convert\" onclick=\"convertToInteractive('df-887d463b-f5d5-4636-9c85-b30ef9cebf9b')\"\n",
              "              title=\"Convert this dataframe to an interactive table.\"\n",
              "              style=\"display:none;\">\n",
              "        \n",
              "  <svg xmlns=\"http://www.w3.org/2000/svg\" height=\"24px\"viewBox=\"0 0 24 24\"\n",
              "       width=\"24px\">\n",
              "    <path d=\"M0 0h24v24H0V0z\" fill=\"none\"/>\n",
              "    <path d=\"M18.56 5.44l.94 2.06.94-2.06 2.06-.94-2.06-.94-.94-2.06-.94 2.06-2.06.94zm-11 1L8.5 8.5l.94-2.06 2.06-.94-2.06-.94L8.5 2.5l-.94 2.06-2.06.94zm10 10l.94 2.06.94-2.06 2.06-.94-2.06-.94-.94-2.06-.94 2.06-2.06.94z\"/><path d=\"M17.41 7.96l-1.37-1.37c-.4-.4-.92-.59-1.43-.59-.52 0-1.04.2-1.43.59L10.3 9.45l-7.72 7.72c-.78.78-.78 2.05 0 2.83L4 21.41c.39.39.9.59 1.41.59.51 0 1.02-.2 1.41-.59l7.78-7.78 2.81-2.81c.8-.78.8-2.07 0-2.86zM5.41 20L4 18.59l7.72-7.72 1.47 1.35L5.41 20z\"/>\n",
              "  </svg>\n",
              "      </button>\n",
              "      \n",
              "  <style>\n",
              "    .colab-df-container {\n",
              "      display:flex;\n",
              "      flex-wrap:wrap;\n",
              "      gap: 12px;\n",
              "    }\n",
              "\n",
              "    .colab-df-convert {\n",
              "      background-color: #E8F0FE;\n",
              "      border: none;\n",
              "      border-radius: 50%;\n",
              "      cursor: pointer;\n",
              "      display: none;\n",
              "      fill: #1967D2;\n",
              "      height: 32px;\n",
              "      padding: 0 0 0 0;\n",
              "      width: 32px;\n",
              "    }\n",
              "\n",
              "    .colab-df-convert:hover {\n",
              "      background-color: #E2EBFA;\n",
              "      box-shadow: 0px 1px 2px rgba(60, 64, 67, 0.3), 0px 1px 3px 1px rgba(60, 64, 67, 0.15);\n",
              "      fill: #174EA6;\n",
              "    }\n",
              "\n",
              "    [theme=dark] .colab-df-convert {\n",
              "      background-color: #3B4455;\n",
              "      fill: #D2E3FC;\n",
              "    }\n",
              "\n",
              "    [theme=dark] .colab-df-convert:hover {\n",
              "      background-color: #434B5C;\n",
              "      box-shadow: 0px 1px 3px 1px rgba(0, 0, 0, 0.15);\n",
              "      filter: drop-shadow(0px 1px 2px rgba(0, 0, 0, 0.3));\n",
              "      fill: #FFFFFF;\n",
              "    }\n",
              "  </style>\n",
              "\n",
              "      <script>\n",
              "        const buttonEl =\n",
              "          document.querySelector('#df-887d463b-f5d5-4636-9c85-b30ef9cebf9b button.colab-df-convert');\n",
              "        buttonEl.style.display =\n",
              "          google.colab.kernel.accessAllowed ? 'block' : 'none';\n",
              "\n",
              "        async function convertToInteractive(key) {\n",
              "          const element = document.querySelector('#df-887d463b-f5d5-4636-9c85-b30ef9cebf9b');\n",
              "          const dataTable =\n",
              "            await google.colab.kernel.invokeFunction('convertToInteractive',\n",
              "                                                     [key], {});\n",
              "          if (!dataTable) return;\n",
              "\n",
              "          const docLinkHtml = 'Like what you see? Visit the ' +\n",
              "            '<a target=\"_blank\" href=https://colab.research.google.com/notebooks/data_table.ipynb>data table notebook</a>'\n",
              "            + ' to learn more about interactive tables.';\n",
              "          element.innerHTML = '';\n",
              "          dataTable['output_type'] = 'display_data';\n",
              "          await google.colab.output.renderOutput(dataTable, element);\n",
              "          const docLink = document.createElement('div');\n",
              "          docLink.innerHTML = docLinkHtml;\n",
              "          element.appendChild(docLink);\n",
              "        }\n",
              "      </script>\n",
              "    </div>\n",
              "  </div>\n",
              "  "
            ],
            "text/plain": [
              "        userId  movieId  rating   timestamp\n",
              "0            1        1     4.0   964982703\n",
              "1            1        3     4.0   964981247\n",
              "2            1        6     4.0   964982224\n",
              "3            1       47     5.0   964983815\n",
              "4            1       50     5.0   964982931\n",
              "...        ...      ...     ...         ...\n",
              "100831     610   166534     4.0  1493848402\n",
              "100832     610   168248     5.0  1493850091\n",
              "100833     610   168250     5.0  1494273047\n",
              "100834     610   168252     5.0  1493846352\n",
              "100835     610   170875     3.0  1493846415\n",
              "\n",
              "[100836 rows x 4 columns]"
            ]
          },
          "metadata": {},
          "execution_count": 184
        }
      ]
    },
    {
      "cell_type": "code",
      "source": [
        "# Task 1-2\n",
        "movie_data = pd.read_csv('ml-latest-small/movies.csv')\n",
        "\n",
        "def str_to_set(x):\n",
        "    genre_set = set()\n",
        "    x_lst = x.split(\"|\")\n",
        "    for item in x_lst:\n",
        "        genre_set.add(item)\n",
        "    return genre_set\n",
        "# movies.csv 파일의 genres를 집합으로 변환\n",
        "movie_data.genres = movie_data.genres.apply(str_to_set)"
      ],
      "metadata": {
        "id": "sg_eNxAEvt_9"
      },
      "execution_count": 185,
      "outputs": []
    },
    {
      "cell_type": "code",
      "source": [
        "# Task 1-3\n",
        "tag_data = pd.read_csv('ml-latest-small/tags.csv')\n",
        "\n",
        "def str_to_lower(x):\n",
        "    return x.lower()\n",
        "\n",
        "# tags.csv 파일의 tag들을 소문자로 변환\n",
        "tag_data.tag = tag_data.tag.apply(str_to_lower)\n",
        "\n",
        "# tag 데이터를 movieId로 묶고, tag들을 집합으로 변환\n",
        "movie_tag = tag_data.groupby('movieId').agg(tag=('tag', set)).reset_index()"
      ],
      "metadata": {
        "id": "8Y5XyqrvxOPH"
      },
      "execution_count": 186,
      "outputs": []
    },
    {
      "cell_type": "code",
      "source": [
        "# Task2. Latent Factor 모델을 이용하여 학습하기\n",
        "# Task 2-1\n",
        "import torch\n",
        "import torch.nn.functional as F\n",
        "import matplotlib.pyplot as plt\n",
        "import math\n",
        "\n",
        "items = torch.LongTensor(rating_train['movieId'])\n",
        "users = torch.LongTensor(rating_train['userId'])\n",
        "ratings = torch.FloatTensor(rating_train['rating'])\n",
        "\n",
        "items_test = torch.LongTensor(rating_test['movieId'].values)\n",
        "users_test = torch.LongTensor(rating_test['userId'].values)\n",
        "ratings_test = torch.FloatTensor(rating_test['rating'].values)\n",
        "\n",
        "rank = 10\n",
        "numItems = items.max() + 1\n",
        "numUsers = users.max() + 1\n",
        "\n",
        "P = torch.randn(numItems, rank, requires_grad = True)\n",
        "Q = torch.randn(numUsers, rank, requires_grad = True)"
      ],
      "metadata": {
        "id": "OpwowvLM-2CX"
      },
      "execution_count": 187,
      "outputs": []
    },
    {
      "cell_type": "code",
      "source": [
        "# regularization, bias 추가 \n",
        "lambda1 = 0.0001\n",
        "lambda2 = 0.0001\n",
        "lambda3 = 0.001\n",
        "lambda4 = 0.001\n",
        "\n",
        "bias_item = torch.randn(numItems, requires_grad = True)\n",
        "bias_user = torch.randn(numUsers, requires_grad=True)\n",
        "mean = (ratings.sum() / len(ratings)).item()\n",
        "\n",
        "optimizer = torch.optim.Adam([P,Q, bias_item, bias_user], lr=0.5)     #lr 값 변경\n",
        "\n",
        "X = []\n",
        "Y = []\n",
        "Y_test = []\n",
        "\n",
        "for epoch in range(1001):\n",
        "    hypothesis = torch.sum(P[items] * Q[users], dim=1) + mean + bias_item[items] + bias_user[users]\n",
        "    cost = F.mse_loss(hypothesis, ratings)  \n",
        "    train_rmse = math.sqrt(cost)\n",
        "    loss = cost + lambda1 * torch.sum(P**2) + lambda2 * torch.sum(Q**2) + lambda3 * torch.sum(bias_item ** 2) + lambda4 * torch.sum(bias_user ** 2)\n",
        "\n",
        "    optimizer.zero_grad()\n",
        "    loss.backward()\n",
        "    optimizer.step()\n",
        "    with torch.no_grad():\n",
        "        X.append(epoch)\n",
        "        Y.append(train_rmse)\n",
        "\n",
        "        hypo_test = torch.sum(P[items_test] * Q[users_test], dim=1) + mean + bias_item[items_test] + bias_user[users_test]\n",
        "        test_rmse = math.sqrt(F.mse_loss(hypo_test, ratings_test))\n",
        "        Y_test.append(test_rmse)\n",
        "        if epoch % 100 == 0:\n",
        "            print(\"epoch: {}, cost: {:.6f}, train_rmse: {:.6f}, test_rmse: {:.6f}\".format(epoch, cost, train_rmse, test_rmse))"
      ],
      "metadata": {
        "colab": {
          "base_uri": "https://localhost:8080/"
        },
        "id": "WTp_Lm5lCJQU",
        "outputId": "1e3c3311-8716-4bbf-a3bb-6d86194cf728"
      },
      "execution_count": 188,
      "outputs": [
        {
          "output_type": "stream",
          "name": "stdout",
          "text": [
            "epoch: 0, cost: 12.750553, train_rmse: 3.570792, test_rmse: 2.026247\n",
            "epoch: 100, cost: 0.415166, train_rmse: 0.644334, test_rmse: 0.877909\n",
            "epoch: 200, cost: 0.408238, train_rmse: 0.638935, test_rmse: 0.877257\n",
            "epoch: 300, cost: 0.407346, train_rmse: 0.638237, test_rmse: 0.877966\n",
            "epoch: 400, cost: 0.407787, train_rmse: 0.638582, test_rmse: 0.878581\n",
            "epoch: 500, cost: 0.406839, train_rmse: 0.637839, test_rmse: 0.879602\n",
            "epoch: 600, cost: 0.406757, train_rmse: 0.637775, test_rmse: 0.879809\n",
            "epoch: 700, cost: 0.407868, train_rmse: 0.638645, test_rmse: 0.879926\n",
            "epoch: 800, cost: 0.407512, train_rmse: 0.638367, test_rmse: 0.878595\n",
            "epoch: 900, cost: 0.410000, train_rmse: 0.640313, test_rmse: 0.879586\n",
            "epoch: 1000, cost: 0.409111, train_rmse: 0.639617, test_rmse: 0.879001\n"
          ]
        }
      ]
    },
    {
      "cell_type": "code",
      "source": [
        "plt.ylabel(\"MSE\")\n",
        "plt.xlabel(\"Epoch\")\n",
        "plt.plot(X, Y, c=\"blue\", label=\"Trainging MSE\")\n",
        "plt.plot(X, Y_test, c=\"red\", label=\"Test MSE\")\n",
        "plt.legend()\n",
        "plt.show()"
      ],
      "metadata": {
        "colab": {
          "base_uri": "https://localhost:8080/",
          "height": 279
        },
        "id": "LlOxjP31NXpH",
        "outputId": "d317338f-54d5-4322-e487-35f449818e6b"
      },
      "execution_count": 189,
      "outputs": [
        {
          "output_type": "display_data",
          "data": {
            "image/png": "[encoded data removed]",
            "text/plain": [
              "<Figure size 432x288 with 1 Axes>"
            ]
          },
          "metadata": {
            "needs_background": "light"
          }
        }
      ]
    },
    {
      "cell_type": "markdown",
      "source": [
        ""
      ],
      "metadata": {
        "id": "UA285JV5NXZF"
      }
    },
    {
      "cell_type": "code",
      "source": [
        "# Task 3. 514번 User에게 추천하기\n",
        "# Task 3-1\n",
        "new_rating = rating_data[['userId', 'movieId', 'rating']]\n",
        "\n",
        "# 테이블 -> 딕셔너리\n",
        "def make_dict(dp):\n",
        "    if len(dp.columns) == 1:\n",
        "        if dp.values.size == 1: \n",
        "            return dp.values[0][0]\n",
        "        return dp.values.squeeze()\n",
        "    user = dp.groupby(dp.columns[0])\n",
        "    new_dict = {x: make_dict(y.iloc[:, 1:]) for x, y in user}\n",
        "    return new_dict\n",
        "\n",
        "df_dict = make_dict(new_rating)"
      ],
      "metadata": {
        "id": "4qc7lpXzq0A8"
      },
      "execution_count": 136,
      "outputs": []
    },
    {
      "cell_type": "code",
      "source": [
        "user_data = []\n",
        "movies = []\n",
        "\n",
        "for user in df_dict:\n",
        "    user_data.append(user)\n",
        "    for movie in df_dict[user]:\n",
        "        if not movie in movies:\n",
        "            movies.append(movie)\n",
        "\n",
        "rating_data = {'userId': [], 'movieId': [], 'rating': []}\n",
        "\n",
        "for user in df_dict:\n",
        "    for movie in df_dict[user]:\n",
        "        rating_data['userId'].append(user_data.index(user))\n",
        "        rating_data['movieId'].append(movies.index(movie))\n",
        "        rating_data['rating'].append(df_dict[user][movie])\n",
        "        \n",
        "df = pd.DataFrame(rating_data)"
      ],
      "metadata": {
        "id": "BrOlfZmC-lmp"
      },
      "execution_count": 161,
      "outputs": []
    },
    {
      "cell_type": "code",
      "source": [
        "pip install surprise"
      ],
      "metadata": {
        "colab": {
          "base_uri": "https://localhost:8080/"
        },
        "id": "4-UyeLDi-6MG",
        "outputId": "f26b91f1-4b1f-4742-ead6-c8ec8ff48fc2"
      },
      "execution_count": 162,
      "outputs": [
        {
          "output_type": "stream",
          "name": "stdout",
          "text": [
            "Requirement already satisfied: surprise in /usr/local/lib/python3.7/dist-packages (0.1)\n",
            "Requirement already satisfied: scikit-surprise in /usr/local/lib/python3.7/dist-packages (from surprise) (1.1.1)\n",
            "Requirement already satisfied: scipy>=1.0.0 in /usr/local/lib/python3.7/dist-packages (from scikit-surprise->surprise) (1.4.1)\n",
            "Requirement already satisfied: joblib>=0.11 in /usr/local/lib/python3.7/dist-packages (from scikit-surprise->surprise) (1.1.0)\n",
            "Requirement already satisfied: six>=1.10.0 in /usr/local/lib/python3.7/dist-packages (from scikit-surprise->surprise) (1.15.0)\n",
            "Requirement already satisfied: numpy>=1.11.2 in /usr/local/lib/python3.7/dist-packages (from scikit-surprise->surprise) (1.19.5)\n"
          ]
        }
      ]
    },
    {
      "cell_type": "code",
      "source": [
        "import surprise\n",
        "read_data = surprise.Reader(rating_scale=(0.0, 5.0))\n",
        "columns = ['userId', 'movieId', 'rating']\n",
        "read_data = surprise.Dataset.load_from_df(new_rating[columns], read_data)\n",
        "\n",
        "train_data = read_data.build_full_trainset()\n",
        "nn = surprise.KNNBasic()\n",
        "nn.fit(train_data)"
      ],
      "metadata": {
        "colab": {
          "base_uri": "https://localhost:8080/"
        },
        "id": "tqcGxBqb_OwJ",
        "outputId": "6a3618c9-fe20-44d8-e16d-ae97f4d403f9"
      },
      "execution_count": 174,
      "outputs": [
        {
          "output_type": "stream",
          "name": "stdout",
          "text": [
            "Computing the msd similarity matrix...\n",
            "Done computing similarity matrix.\n"
          ]
        },
        {
          "output_type": "execute_result",
          "data": {
            "text/plain": [
              "<surprise.prediction_algorithms.knns.KNNBasic at 0x7f9a41b94750>"
            ]
          },
          "metadata": {},
          "execution_count": 174
        }
      ]
    },
    {
      "cell_type": "code",
      "source": [
        "recommand_data = {'userId': [], 'movieId': []}\n",
        "\n",
        "for user_id in new_rating['userId'].unique():\n",
        "    idx = user_data.index(user_id)\n",
        "    result = nn.get_neighbors(idx, k=4)\n",
        "    recom = set()\n",
        "    for i in result:\n",
        "        rating_meta = read_data.df[read_data.df['userId'] == user_data[i]]\n",
        "        rating = rating_meta['rating'].max()\n",
        "        movie_meta = read_data.df[(read_data.df['rating'] == rating) & (read_data.df['userId'] == user_data[i])] \n",
        "        movies = movie_meta['movieId'].values\n",
        "        for movie in movies: \n",
        "            recom.add(movie)\n",
        "        for movie_id in recom:\n",
        "            recommand_data['userId'].append(user_id)\n",
        "            recommand_data['movieId'].append(movie_id)\n",
        "\n",
        "recommand_df = pd.DataFrame(recommand_data)\n",
        "movie_list = recommand_df.loc[recommand_df['userId'] == 514, 'movieId'].unique()\n",
        "\n",
        "re_movie = []\n",
        "for i in movie_list:\n",
        "    dp = movie_data.loc[movie_data['movieId']==i, 'title'].unique()\n",
        "    re_movie.append([i, dp[0]])\n",
        "\n",
        "# 영화와 아이디 출력\n",
        "for id, title in re_movie[:20]:\n",
        "    print(id ,title)"
      ],
      "metadata": {
        "colab": {
          "base_uri": "https://localhost:8080/"
        },
        "id": "hVAau1eKAmvB",
        "outputId": "1a84db60-6ee2-459d-e341-20144a6f3dad"
      },
      "execution_count": 182,
      "outputs": [
        {
          "output_type": "stream",
          "name": "stdout",
          "text": [
            "898 Philadelphia Story, The (1940)\n",
            "3972 Legend of Drunken Master, The (Jui kuen II) (1994)\n",
            "2150 Gods Must Be Crazy, The (1980)\n",
            "59784 Kung Fu Panda (2008)\n",
            "2924 Drunken Master (Jui kuen) (1978)\n",
            "1019 20,000 Leagues Under the Sea (1954)\n",
            "3996 Crouching Tiger, Hidden Dragon (Wo hu cang long) (2000)\n",
            "222 Circle of Friends (1995)\n",
            "2605 Entrapment (1999)\n",
            "1267 Manchurian Candidate, The (1962)\n",
            "2571 Matrix, The (1999)\n",
            "527 Schindler's List (1993)\n",
            "79132 Inception (2010)\n",
            "109487 Interstellar (2014)\n",
            "1200 Aliens (1986)\n",
            "4022 Cast Away (2000)\n",
            "168252 Logan (2017)\n",
            "1097 E.T. the Extra-Terrestrial (1982)\n",
            "2028 Saving Private Ryan (1998)\n",
            "139385 The Revenant (2015)\n"
          ]
        }
      ]
    },
    {
      "cell_type": "code",
      "source": [
        "# Task 3-2\n",
        "import numpy as np\n",
        "# tag와 장르가 있는 rating 데이터 (514 유저의 평점도 포함)\n",
        "ratings = pd.merge(rating_data, movie_data, on='movieId', how='inner')\n",
        "ratings = pd.merge(ratings, movie_tag, on='movieId', how='inner')\n",
        "\n",
        "# 514 유저가 평점을 매긴 rating 데이터\n",
        "ratings_514 = ratings.loc[ratings['userId'] == 514, :]\n",
        "ratings_514 = ratings_514.loc[ratings_514['rating'] == 5.0, :].reset_index()\n",
        "\n",
        "matrix = ratings.pivot_table(index='userId', columns='title', values='rating')"
      ],
      "metadata": {
        "id": "fZsUgE075BZI"
      },
      "execution_count": 9,
      "outputs": []
    },
    {
      "cell_type": "code",
      "source": [
        "def jaccard_similarity(s1,s2):\n",
        "    if len(s1|s2) == 0: return 0\n",
        "    return len(s1&s2)/len(s1|s2)\n",
        "\n",
        "def pearson_similarity(u1, u2):\n",
        "    u1_c = u1 - u1.mean()\n",
        "    u2_c = u2 - u2.mean()\n",
        "    denom = np.sqrt(np.sum(u1_c**2) * np.sum(u2_c**2))\n",
        "    if denom != 0:\n",
        "        return np.sum(u1_c * u2_c)/denom\n",
        "    else:\n",
        "        return 0\n",
        "\n",
        "def find_similar_movies(input_title, matrix, n, alpha):\n",
        "    input_meta = ratings.loc[ratings['title'] == input_title].iloc[0]\n",
        "    input_set = input_meta.genres | input_meta.tag\n",
        "    \n",
        "    result = []\n",
        "    \n",
        "    for this_title in matrix.columns:\n",
        "        if this_title == input_title:\n",
        "            continue\n",
        "        \n",
        "        this_meta = ratings.loc[ratings['title'] == this_title].iloc[0]\n",
        "        this_movieId = this_meta['movieId']\n",
        "        this_set = this_meta.genres | this_meta.tag\n",
        "        \n",
        "        pearson = pearson_similarity(matrix[this_title], matrix[input_title])\n",
        "        jaccard = jaccard_similarity(this_set, input_set)\n",
        "        \n",
        "        score = alpha * pearson + (1-alpha)*jaccard\n",
        "        result.append((this_movieId, this_title, score))\n",
        "        \n",
        "    result.sort(key=lambda r: r[2], reverse=True)\n",
        "    \n",
        "    return result[:n]\n",
        "\n",
        "# 514번 유저 데이터의 영화 타이틀\n",
        "title_lst = []\n",
        "for i in range(len(ratings_514)):\n",
        "    dp = ratings_514.iloc[i]\n",
        "    title_lst.append([dp['movieId'], dp['title']])\n",
        "\n",
        "for title in title_lst:\n",
        "    result = find_similar_movies(title[1], matrix, 5, 0.3)\n",
        "    print(title[0], title[1])\n",
        "    result = pd.DataFrame(result, columns = ['movieId','title', 'score'])\n",
        "    print(result)\n",
        "    print(\"\\n\")\n"
      ],
      "metadata": {
        "colab": {
          "base_uri": "https://localhost:8080/"
        },
        "id": "r-QMCBk882r_",
        "outputId": "066c1986-cfbb-494a-ebcd-795c3a40c53b"
      },
      "execution_count": 10,
      "outputs": [
        {
          "output_type": "stream",
          "name": "stdout",
          "text": [
            "260 Star Wars: Episode IV - A New Hope (1977)\n",
            "   movieId                                              title     score\n",
            "0     1210  Star Wars: Episode VI - Return of the Jedi (1983)  0.359909\n",
            "1     1196  Star Wars: Episode V - The Empire Strikes Back...  0.352121\n",
            "2    33493  Star Wars: Episode III - Revenge of the Sith (...  0.189717\n",
            "3     1200                                      Aliens (1986)  0.178861\n",
            "4    68358                                   Star Trek (2009)  0.154692\n",
            "\n",
            "\n",
            "593 Silence of the Lambs, The (1991)\n",
            "   movieId               title     score\n",
            "0     4725    Session 9 (2001)  0.269751\n",
            "1     8957          Saw (2004)  0.225013\n",
            "2     6323     Identity (2003)  0.216713\n",
            "3       22      Copycat (1995)  0.209653\n",
            "4      628  Primal Fear (1996)  0.208856\n",
            "\n",
            "\n",
            "1196 Star Wars: Episode V - The Empire Strikes Back (1980)\n",
            "   movieId                                              title     score\n",
            "0      260          Star Wars: Episode IV - A New Hope (1977)  0.352121\n",
            "1     1210  Star Wars: Episode VI - Return of the Jedi (1983)  0.326346\n",
            "2    33493  Star Wars: Episode III - Revenge of the Sith (...  0.313933\n",
            "3     1200                                      Aliens (1986)  0.219779\n",
            "4     5349                                  Spider-Man (2002)  0.219737\n",
            "\n",
            "\n",
            "1197 Princess Bride, The (1987)\n",
            "   movieId                                              title     score\n",
            "0     6539  Pirates of the Caribbean: The Curse of the Bla...  0.413955\n",
            "1      552                       Three Musketeers, The (1993)  0.355247\n",
            "2     4306                                       Shrek (2001)  0.341166\n",
            "3    26776  Porco Rosso (Crimson Pig) (Kurenai no buta) (1...  0.316374\n",
            "4      380                                   True Lies (1994)  0.310549\n",
            "\n",
            "\n",
            "1198 Raiders of the Lost Ark (Indiana Jones and the Raiders of the Lost Ark) (1981)\n",
            "   movieId                                        title     score\n",
            "0     1291    Indiana Jones and the Last Crusade (1989)  0.345933\n",
            "1     2115  Indiana Jones and the Temple of Doom (1984)  0.291935\n",
            "2   184471                           Tomb Raider (2018)  0.287915\n",
            "3     5349                            Spider-Man (2002)  0.203662\n",
            "4   111364                              Godzilla (2014)  0.193938\n",
            "\n",
            "\n",
            "1270 Back to the Future (1985)\n",
            "   movieId                                    title     score\n",
            "0     2011        Back to the Future Part II (1989)  0.820663\n",
            "1     4571  Bill & Ted's Excellent Adventure (1989)  0.742517\n",
            "2     4980        Bill & Ted's Bogus Journey (1991)  0.593445\n",
            "3     2968                      Time Bandits (1981)  0.585969\n",
            "4     3175                      Galaxy Quest (1999)  0.450558\n",
            "\n",
            "\n",
            "1302 Field of Dreams (1989)\n",
            "   movieId                                              title     score\n",
            "0      953                       It's a Wonderful Life (1946)  0.395207\n",
            "1     3098                                Natural, The (1984)  0.376493\n",
            "2     5971       My Neighbor Totoro (Tonari no Totoro) (1988)  0.334139\n",
            "3    26662  Kiki's Delivery Service (Majo no takkyûbin) (1...  0.327568\n",
            "4      531                          Secret Garden, The (1993)  0.319842\n",
            "\n",
            "\n",
            "1200 Aliens (1986)\n",
            "   movieId                                              title     score\n",
            "0     1214                                       Alien (1979)  0.331133\n",
            "1    33493  Star Wars: Episode III - Revenge of the Sith (...  0.241381\n",
            "2      589                  Terminator 2: Judgment Day (1991)  0.240162\n",
            "3      780               Independence Day (a.k.a. ID4) (1996)  0.237843\n",
            "4     3527                                    Predator (1987)  0.236916\n",
            "\n",
            "\n",
            "80463 Social Network, The (2010)\n",
            "   movieId                             title     score\n",
            "0   148626             Big Short, The (2015)  0.252938\n",
            "1     6385                Whale Rider (2002)  0.229512\n",
            "2    36535  Everything Is Illuminated (2005)  0.220457\n",
            "3   140174                       Room (2015)  0.212326\n",
            "4     6881            Pieces of April (2003)  0.210975\n",
            "\n",
            "\n",
            "1387 Jaws (1975)\n",
            "   movieId                          title     score\n",
            "0     1389                Jaws 3-D (1983)  0.711721\n",
            "1     2167                   Blade (1998)  0.292832\n",
            "2    34323    Devil's Rejects, The (2005)  0.290712\n",
            "3     6502           28 Days Later (2002)  0.287717\n",
            "4     1975  Friday the 13th Part 2 (1981)  0.222010\n",
            "\n",
            "\n",
            "6979 WarGames (1983)\n",
            "   movieId                                  title     score\n",
            "0     1253  Day the Earth Stood Still, The (1951)  0.429975\n",
            "1     6305                  Fahrenheit 451 (1966)  0.352940\n",
            "2     1206             Clockwork Orange, A (1971)  0.349771\n",
            "3     6810         Sleeping with the Enemy (1991)  0.333071\n",
            "4     1653                         Gattaca (1997)  0.329326\n",
            "\n",
            "\n"
          ]
        }
      ]
    },
    {
      "cell_type": "markdown",
      "source": [
        ""
      ],
      "metadata": {
        "id": "PPLoq-vu82cb"
      }
    },
    {
      "cell_type": "code",
      "source": [
        "# Task 4. 영화 클러스터링 하기\n",
        "# Task 4-1\n",
        "# k-means using sklearn\n",
        "import random\n",
        "from sklearn.cluster import KMeans\n",
        "from sklearn.metrics.pairwise import cosine_similarity\n",
        "\n",
        "\n",
        "q_points = Q.detach().numpy()\n",
        "cosine_p = cosine_similarity(q_points)\n",
        "cost = []\n",
        "\n",
        "# kmeans 실행\n",
        "def kmeans(x):\n",
        "    for i in range(1,41):  #k값은 1~40\n",
        "        kmeans = KMeans(n_clusters=i)\n",
        "        kmeans.fit(x)\n",
        "        cost.append(kmeans.inertia_ * 0.1)\n",
        "\n",
        "kmeans(cosine_p)"
      ],
      "metadata": {
        "id": "VWhvl5JXB3tE"
      },
      "execution_count": 54,
      "outputs": []
    },
    {
      "cell_type": "code",
      "source": [
        "# Task 4-2\n",
        "plt.title(\"Task 4-2\")\n",
        "plt.plot(range(40), cost)\n",
        "plt.show()"
      ],
      "metadata": {
        "colab": {
          "base_uri": "https://localhost:8080/",
          "height": 281
        },
        "id": "2Hb65gXTB85M",
        "outputId": "87462c02-dc3d-459b-ba3b-a93911915c25"
      },
      "execution_count": 48,
      "outputs": [
        {
          "output_type": "display_data",
          "data": {
            "image/png": "[encoded data removed]",
            "text/plain": [
              "<Figure size 432x288 with 1 Axes>"
            ]
          },
          "metadata": {
            "needs_background": "light"
          }
        }
      ]
    },
    {
      "cell_type": "code",
      "source": [
        "# Task 5. 차원 축소 및 시각화\n",
        "# Task 5-1\n",
        "\n",
        "# P [9724, 10]\n",
        "# Q [611, 10]\n",
        "P = P.detach().numpy()\n",
        "# P를 rating에 한번이라도 등장한 값들로 줄이기\n",
        "P = P[rating_data['movieId'].unique()]\n",
        "P = torch.Tensor(P)\n",
        "\n",
        "# P와 Q를 합쳐서 Z 만들기\n",
        "Z = torch.cat([P,Q], dim=0)\n",
        "Z.size()"
      ],
      "metadata": {
        "colab": {
          "base_uri": "https://localhost:8080/"
        },
        "id": "IpPbMCuSvNYt",
        "outputId": "3cc011b4-bc46-4a58-8ce3-67ec3ac0c8b3"
      },
      "execution_count": 60,
      "outputs": [
        {
          "output_type": "execute_result",
          "data": {
            "text/plain": [
              "torch.Size([10335, 10])"
            ]
          },
          "metadata": {},
          "execution_count": 60
        }
      ]
    },
    {
      "cell_type": "code",
      "source": [
        "# Task 5-2\n",
        "def findPC(Z):\n",
        "    w = torch.randn(Z.shape[1])\n",
        "    # w는 단위벡터\n",
        "    w = w/(torch.dot(w,w)**0.5)\n",
        "    lr = 0.1\n",
        "    for epoch in range(1001):\n",
        "        w.requires_grad_(True)\n",
        "        variance = torch.mean(torch.sum(Z * w, dim=1) ** 2)\n",
        "        variance.backward(retain_graph=True)\n",
        "        with torch.no_grad():\n",
        "            w = w + lr * w.grad\n",
        "            w = w/(torch.dot(w,w)**0.5)\n",
        "    return w, variance.item()\n",
        "\n",
        "def PCA(Z, n):\n",
        "    W, V = [], []\n",
        "\n",
        "    for _ in range(n):\n",
        "        w, v = findPC(Z)\n",
        "        W.append(w)\n",
        "        V.append(v)\n",
        "        Z = Z - (Z@w.view(-1,1)) * w\n",
        "    \n",
        "    return W, V\n",
        "\n",
        "def transform(Z, W):\n",
        "    return Z@torch.stack(W).T\n",
        "\n",
        "W, V = PCA(Z, 2)\n",
        "Zp = transform(Z, W)  #Zp.size =  [10335, 2]"
      ],
      "metadata": {
        "id": "629O7uG-412Q"
      },
      "execution_count": 61,
      "outputs": []
    },
    {
      "cell_type": "code",
      "source": [
        "Zp = Zp.detach().numpy()"
      ],
      "metadata": {
        "id": "_k5WLnVzgB12"
      },
      "execution_count": 70,
      "outputs": []
    },
    {
      "cell_type": "code",
      "source": [
        "# Task 5-3-1\n",
        "plt.scatter(Zp[:9724,0], Zp[:9724, 1], s=0.5, color='violet', label='P')\n",
        "plt.scatter(Zp[9724:,0], Zp[9724:, 1], s=0.5, color='blue', label='Q')\n",
        "plt.legend(loc=\"upper right\")\n",
        "plt.show()"
      ],
      "metadata": {
        "colab": {
          "base_uri": "https://localhost:8080/",
          "height": 265
        },
        "id": "AcxGocH8NKux",
        "outputId": "ecf8e401-b0b5-4ca9-de26-9b76cfb3dad5"
      },
      "execution_count": 75,
      "outputs": [
        {
          "output_type": "display_data",
          "data": {
            "image/png": "[encoded data removed]",
            "text/plain": [
              "<Figure size 432x288 with 1 Axes>"
            ]
          },
          "metadata": {
            "needs_background": "light"
          }
        }
      ]
    }
  ]
}